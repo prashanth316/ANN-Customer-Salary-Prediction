{
 "cells": [
  {
   "cell_type": "code",
   "execution_count": 50,
   "id": "f715b6b9",
   "metadata": {},
   "outputs": [],
   "source": [
    "import pandas as pd\n",
    "from sklearn.model_selection import train_test_split\n",
    "from sklearn.preprocessing import StandardScaler,LabelEncoder,OneHotEncoder\n",
    "import pickle"
   ]
  },
  {
   "cell_type": "code",
   "execution_count": 51,
   "id": "ed029940",
   "metadata": {},
   "outputs": [],
   "source": [
    "df=pd.read_csv('Churn_Modelling.csv')"
   ]
  },
  {
   "cell_type": "code",
   "execution_count": 52,
   "id": "c2f413ce",
   "metadata": {},
   "outputs": [
    {
     "data": {
      "text/html": [
       "<div>\n",
       "<style scoped>\n",
       "    .dataframe tbody tr th:only-of-type {\n",
       "        vertical-align: middle;\n",
       "    }\n",
       "\n",
       "    .dataframe tbody tr th {\n",
       "        vertical-align: top;\n",
       "    }\n",
       "\n",
       "    .dataframe thead th {\n",
       "        text-align: right;\n",
       "    }\n",
       "</style>\n",
       "<table border=\"1\" class=\"dataframe\">\n",
       "  <thead>\n",
       "    <tr style=\"text-align: right;\">\n",
       "      <th></th>\n",
       "      <th>RowNumber</th>\n",
       "      <th>CustomerId</th>\n",
       "      <th>Surname</th>\n",
       "      <th>CreditScore</th>\n",
       "      <th>Geography</th>\n",
       "      <th>Gender</th>\n",
       "      <th>Age</th>\n",
       "      <th>Tenure</th>\n",
       "      <th>Balance</th>\n",
       "      <th>NumOfProducts</th>\n",
       "      <th>HasCrCard</th>\n",
       "      <th>IsActiveMember</th>\n",
       "      <th>EstimatedSalary</th>\n",
       "      <th>Exited</th>\n",
       "    </tr>\n",
       "  </thead>\n",
       "  <tbody>\n",
       "    <tr>\n",
       "      <th>0</th>\n",
       "      <td>1</td>\n",
       "      <td>15634602</td>\n",
       "      <td>Hargrave</td>\n",
       "      <td>619</td>\n",
       "      <td>France</td>\n",
       "      <td>Female</td>\n",
       "      <td>42</td>\n",
       "      <td>2</td>\n",
       "      <td>0.00</td>\n",
       "      <td>1</td>\n",
       "      <td>1</td>\n",
       "      <td>1</td>\n",
       "      <td>101348.88</td>\n",
       "      <td>1</td>\n",
       "    </tr>\n",
       "    <tr>\n",
       "      <th>1</th>\n",
       "      <td>2</td>\n",
       "      <td>15647311</td>\n",
       "      <td>Hill</td>\n",
       "      <td>608</td>\n",
       "      <td>Spain</td>\n",
       "      <td>Female</td>\n",
       "      <td>41</td>\n",
       "      <td>1</td>\n",
       "      <td>83807.86</td>\n",
       "      <td>1</td>\n",
       "      <td>0</td>\n",
       "      <td>1</td>\n",
       "      <td>112542.58</td>\n",
       "      <td>0</td>\n",
       "    </tr>\n",
       "    <tr>\n",
       "      <th>2</th>\n",
       "      <td>3</td>\n",
       "      <td>15619304</td>\n",
       "      <td>Onio</td>\n",
       "      <td>502</td>\n",
       "      <td>France</td>\n",
       "      <td>Female</td>\n",
       "      <td>42</td>\n",
       "      <td>8</td>\n",
       "      <td>159660.80</td>\n",
       "      <td>3</td>\n",
       "      <td>1</td>\n",
       "      <td>0</td>\n",
       "      <td>113931.57</td>\n",
       "      <td>1</td>\n",
       "    </tr>\n",
       "    <tr>\n",
       "      <th>3</th>\n",
       "      <td>4</td>\n",
       "      <td>15701354</td>\n",
       "      <td>Boni</td>\n",
       "      <td>699</td>\n",
       "      <td>France</td>\n",
       "      <td>Female</td>\n",
       "      <td>39</td>\n",
       "      <td>1</td>\n",
       "      <td>0.00</td>\n",
       "      <td>2</td>\n",
       "      <td>0</td>\n",
       "      <td>0</td>\n",
       "      <td>93826.63</td>\n",
       "      <td>0</td>\n",
       "    </tr>\n",
       "    <tr>\n",
       "      <th>4</th>\n",
       "      <td>5</td>\n",
       "      <td>15737888</td>\n",
       "      <td>Mitchell</td>\n",
       "      <td>850</td>\n",
       "      <td>Spain</td>\n",
       "      <td>Female</td>\n",
       "      <td>43</td>\n",
       "      <td>2</td>\n",
       "      <td>125510.82</td>\n",
       "      <td>1</td>\n",
       "      <td>1</td>\n",
       "      <td>1</td>\n",
       "      <td>79084.10</td>\n",
       "      <td>0</td>\n",
       "    </tr>\n",
       "  </tbody>\n",
       "</table>\n",
       "</div>"
      ],
      "text/plain": [
       "   RowNumber  CustomerId   Surname  ...  IsActiveMember EstimatedSalary Exited\n",
       "0          1    15634602  Hargrave  ...               1       101348.88      1\n",
       "1          2    15647311      Hill  ...               1       112542.58      0\n",
       "2          3    15619304      Onio  ...               0       113931.57      1\n",
       "3          4    15701354      Boni  ...               0        93826.63      0\n",
       "4          5    15737888  Mitchell  ...               1        79084.10      0\n",
       "\n",
       "[5 rows x 14 columns]"
      ]
     },
     "execution_count": 52,
     "metadata": {},
     "output_type": "execute_result"
    }
   ],
   "source": [
    "df.head()"
   ]
  },
  {
   "cell_type": "code",
   "execution_count": 53,
   "id": "7d43061b",
   "metadata": {},
   "outputs": [],
   "source": [
    "df=df.drop(['RowNumber','CustomerId','Surname'],axis=1)"
   ]
  },
  {
   "cell_type": "code",
   "execution_count": 54,
   "id": "fb1dd95f",
   "metadata": {},
   "outputs": [],
   "source": [
    "label_encoder_gender = LabelEncoder()\n",
    "df[\"Gender\"] = label_encoder_gender.fit_transform(df['Gender'])"
   ]
  },
  {
   "cell_type": "code",
   "execution_count": 55,
   "id": "12cae29c",
   "metadata": {},
   "outputs": [],
   "source": [
    "one_hot_encoder = OneHotEncoder()\n",
    "geo_encoded = one_hot_encoder.fit_transform(df[['Geography']]).toarray()\n",
    "geo_encoded_df = pd.DataFrame(geo_encoded,columns=one_hot_encoder.get_feature_names_out(['Geography']))"
   ]
  },
  {
   "cell_type": "code",
   "execution_count": 56,
   "id": "d0c631b3",
   "metadata": {},
   "outputs": [
    {
     "data": {
      "text/html": [
       "<div>\n",
       "<style scoped>\n",
       "    .dataframe tbody tr th:only-of-type {\n",
       "        vertical-align: middle;\n",
       "    }\n",
       "\n",
       "    .dataframe tbody tr th {\n",
       "        vertical-align: top;\n",
       "    }\n",
       "\n",
       "    .dataframe thead th {\n",
       "        text-align: right;\n",
       "    }\n",
       "</style>\n",
       "<table border=\"1\" class=\"dataframe\">\n",
       "  <thead>\n",
       "    <tr style=\"text-align: right;\">\n",
       "      <th></th>\n",
       "      <th>CreditScore</th>\n",
       "      <th>Gender</th>\n",
       "      <th>Age</th>\n",
       "      <th>Tenure</th>\n",
       "      <th>Balance</th>\n",
       "      <th>NumOfProducts</th>\n",
       "      <th>HasCrCard</th>\n",
       "      <th>IsActiveMember</th>\n",
       "      <th>EstimatedSalary</th>\n",
       "      <th>Exited</th>\n",
       "      <th>Geography_France</th>\n",
       "      <th>Geography_Germany</th>\n",
       "      <th>Geography_Spain</th>\n",
       "    </tr>\n",
       "  </thead>\n",
       "  <tbody>\n",
       "    <tr>\n",
       "      <th>0</th>\n",
       "      <td>619</td>\n",
       "      <td>0</td>\n",
       "      <td>42</td>\n",
       "      <td>2</td>\n",
       "      <td>0.00</td>\n",
       "      <td>1</td>\n",
       "      <td>1</td>\n",
       "      <td>1</td>\n",
       "      <td>101348.88</td>\n",
       "      <td>1</td>\n",
       "      <td>1.0</td>\n",
       "      <td>0.0</td>\n",
       "      <td>0.0</td>\n",
       "    </tr>\n",
       "    <tr>\n",
       "      <th>1</th>\n",
       "      <td>608</td>\n",
       "      <td>0</td>\n",
       "      <td>41</td>\n",
       "      <td>1</td>\n",
       "      <td>83807.86</td>\n",
       "      <td>1</td>\n",
       "      <td>0</td>\n",
       "      <td>1</td>\n",
       "      <td>112542.58</td>\n",
       "      <td>0</td>\n",
       "      <td>0.0</td>\n",
       "      <td>0.0</td>\n",
       "      <td>1.0</td>\n",
       "    </tr>\n",
       "    <tr>\n",
       "      <th>2</th>\n",
       "      <td>502</td>\n",
       "      <td>0</td>\n",
       "      <td>42</td>\n",
       "      <td>8</td>\n",
       "      <td>159660.80</td>\n",
       "      <td>3</td>\n",
       "      <td>1</td>\n",
       "      <td>0</td>\n",
       "      <td>113931.57</td>\n",
       "      <td>1</td>\n",
       "      <td>1.0</td>\n",
       "      <td>0.0</td>\n",
       "      <td>0.0</td>\n",
       "    </tr>\n",
       "    <tr>\n",
       "      <th>3</th>\n",
       "      <td>699</td>\n",
       "      <td>0</td>\n",
       "      <td>39</td>\n",
       "      <td>1</td>\n",
       "      <td>0.00</td>\n",
       "      <td>2</td>\n",
       "      <td>0</td>\n",
       "      <td>0</td>\n",
       "      <td>93826.63</td>\n",
       "      <td>0</td>\n",
       "      <td>1.0</td>\n",
       "      <td>0.0</td>\n",
       "      <td>0.0</td>\n",
       "    </tr>\n",
       "    <tr>\n",
       "      <th>4</th>\n",
       "      <td>850</td>\n",
       "      <td>0</td>\n",
       "      <td>43</td>\n",
       "      <td>2</td>\n",
       "      <td>125510.82</td>\n",
       "      <td>1</td>\n",
       "      <td>1</td>\n",
       "      <td>1</td>\n",
       "      <td>79084.10</td>\n",
       "      <td>0</td>\n",
       "      <td>0.0</td>\n",
       "      <td>0.0</td>\n",
       "      <td>1.0</td>\n",
       "    </tr>\n",
       "  </tbody>\n",
       "</table>\n",
       "</div>"
      ],
      "text/plain": [
       "   CreditScore  Gender  ...  Geography_Germany  Geography_Spain\n",
       "0          619       0  ...                0.0              0.0\n",
       "1          608       0  ...                0.0              1.0\n",
       "2          502       0  ...                0.0              0.0\n",
       "3          699       0  ...                0.0              0.0\n",
       "4          850       0  ...                0.0              1.0\n",
       "\n",
       "[5 rows x 13 columns]"
      ]
     },
     "execution_count": 56,
     "metadata": {},
     "output_type": "execute_result"
    }
   ],
   "source": [
    "df = pd.concat([df.drop('Geography',axis=1),geo_encoded_df],axis=1)\n",
    "df.head()"
   ]
  },
  {
   "cell_type": "code",
   "execution_count": 57,
   "id": "995e28b8",
   "metadata": {},
   "outputs": [],
   "source": [
    "X = df.drop('EstimatedSalary',axis=1)\n",
    "y = df['EstimatedSalary']"
   ]
  },
  {
   "cell_type": "code",
   "execution_count": 58,
   "id": "8dd52804",
   "metadata": {},
   "outputs": [],
   "source": [
    "X_train,X_test,y_train,y_test=train_test_split(X,y,test_size=0.2,random_state=42)"
   ]
  },
  {
   "cell_type": "code",
   "execution_count": 59,
   "id": "78bce540",
   "metadata": {},
   "outputs": [],
   "source": [
    "scaler=StandardScaler()\n",
    "X_train=scaler.fit_transform(X_train)\n",
    "X_test=scaler.fit_transform(X_test)"
   ]
  },
  {
   "cell_type": "code",
   "execution_count": 60,
   "id": "03382f5a",
   "metadata": {},
   "outputs": [],
   "source": [
    "## Save the encoders and scaler\n",
    "with open('label_encoder_gender1.pkl','wb') as file:\n",
    "    pickle.dump(label_encoder_gender,file)\n",
    "with open('onehot_encoder1.pkl','wb') as file:\n",
    "    pickle.dump(one_hot_encoder,file)\n",
    "with open('scaler1.pkl','wb') as file:\n",
    "    pickle.dump(scaler,file)"
   ]
  },
  {
   "cell_type": "code",
   "execution_count": 61,
   "id": "4b24a0ca",
   "metadata": {},
   "outputs": [],
   "source": [
    "import tensorflow as tf\n",
    "from tensorflow.keras.models import Sequential\n",
    "from tensorflow.keras.layers import Dense\n"
   ]
  },
  {
   "cell_type": "code",
   "execution_count": 62,
   "id": "198b6977",
   "metadata": {},
   "outputs": [],
   "source": [
    "model = Sequential([\n",
    "    Dense(64,activation='relu',input_shape=(X_train.shape[1],)),\n",
    "    Dense(32,activation='relu'),\n",
    "    Dense(1)\n",
    "])"
   ]
  },
  {
   "cell_type": "code",
   "execution_count": 63,
   "id": "b3cf0beb",
   "metadata": {},
   "outputs": [],
   "source": [
    "from keras.optimizers import Adam\n",
    "from keras.losses import mean_absolute_error\n",
    "adam=Adam()"
   ]
  },
  {
   "cell_type": "code",
   "execution_count": 64,
   "id": "cdfdf01c",
   "metadata": {},
   "outputs": [],
   "source": [
    "model.compile(optimizer=adam,loss=mean_absolute_error,metrics=['mae'])"
   ]
  },
  {
   "cell_type": "code",
   "execution_count": 65,
   "id": "3f9fbf30",
   "metadata": {},
   "outputs": [
    {
     "name": "stdout",
     "output_type": "stream",
     "text": [
      "Model: \"sequential_2\"\n",
      "_________________________________________________________________\n",
      " Layer (type)                Output Shape              Param #   \n",
      "=================================================================\n",
      " dense_10 (Dense)            (None, 64)                832       \n",
      "                                                                 \n",
      " dense_11 (Dense)            (None, 32)                2080      \n",
      "                                                                 \n",
      " dense_12 (Dense)            (None, 1)                 33        \n",
      "                                                                 \n",
      "=================================================================\n",
      "Total params: 2945 (11.50 KB)\n",
      "Trainable params: 2945 (11.50 KB)\n",
      "Non-trainable params: 0 (0.00 Byte)\n",
      "_________________________________________________________________\n"
     ]
    }
   ],
   "source": [
    "model.summary()"
   ]
  },
  {
   "cell_type": "code",
   "execution_count": 66,
   "id": "228fbb0b",
   "metadata": {},
   "outputs": [],
   "source": [
    "from tensorflow.keras.callbacks import EarlyStopping,TensorBoard\n",
    "import datetime\n",
    "\n",
    "log_dir = \"regression/fit/\"+datetime.datetime.now().strftime('%Y%m%d-%H%M%S')\n",
    "tensorboard_callback = TensorBoard(log_dir=log_dir,histogram_freq=1)"
   ]
  },
  {
   "cell_type": "code",
   "execution_count": 67,
   "id": "7a55eee6",
   "metadata": {},
   "outputs": [],
   "source": [
    "early_stopping_callback = EarlyStopping(monitor='val_loss',patience=10,restore_best_weights=True)"
   ]
  },
  {
   "cell_type": "code",
   "execution_count": 68,
   "id": "f73ac5e0",
   "metadata": {},
   "outputs": [
    {
     "name": "stdout",
     "output_type": "stream",
     "text": [
      "Epoch 1/100\n",
      "250/250 [==============================] - 1s 2ms/step - loss: 100384.9062 - mae: 100384.9062 - val_loss: 98544.8203 - val_mae: 98544.8203\n",
      "Epoch 2/100\n",
      "250/250 [==============================] - 0s 1ms/step - loss: 99737.4531 - mae: 99737.4531 - val_loss: 97236.3516 - val_mae: 97236.3516\n",
      "Epoch 3/100\n",
      "250/250 [==============================] - 0s 2ms/step - loss: 97465.3203 - mae: 97465.3203 - val_loss: 93899.5859 - val_mae: 93899.5859\n",
      "Epoch 4/100\n",
      "250/250 [==============================] - 0s 1ms/step - loss: 92956.6406 - mae: 92956.6406 - val_loss: 88246.3828 - val_mae: 88246.3828\n",
      "Epoch 5/100\n",
      "250/250 [==============================] - 0s 1ms/step - loss: 86223.8125 - mae: 86223.8125 - val_loss: 80766.9531 - val_mae: 80766.9531\n",
      "Epoch 6/100\n",
      "250/250 [==============================] - 0s 2ms/step - loss: 78050.0625 - mae: 78050.0625 - val_loss: 72549.5781 - val_mae: 72549.5781\n",
      "Epoch 7/100\n",
      "250/250 [==============================] - 0s 1ms/step - loss: 69683.5938 - mae: 69683.5938 - val_loss: 64843.5312 - val_mae: 64843.5312\n",
      "Epoch 8/100\n",
      "250/250 [==============================] - 0s 2ms/step - loss: 62241.8867 - mae: 62241.8867 - val_loss: 58657.8906 - val_mae: 58657.8906\n",
      "Epoch 9/100\n",
      "250/250 [==============================] - 0s 2ms/step - loss: 56798.0781 - mae: 56798.0781 - val_loss: 54597.8867 - val_mae: 54597.8867\n",
      "Epoch 10/100\n",
      "250/250 [==============================] - 0s 1ms/step - loss: 53442.5039 - mae: 53442.5039 - val_loss: 52304.8516 - val_mae: 52304.8516\n",
      "Epoch 11/100\n",
      "250/250 [==============================] - 0s 2ms/step - loss: 51628.3125 - mae: 51628.3125 - val_loss: 51331.0195 - val_mae: 51331.0195\n",
      "Epoch 12/100\n",
      "250/250 [==============================] - 0s 2ms/step - loss: 50839.1523 - mae: 50839.1523 - val_loss: 51005.4336 - val_mae: 51005.4336\n",
      "Epoch 13/100\n",
      "250/250 [==============================] - 0s 2ms/step - loss: 50504.3672 - mae: 50504.3672 - val_loss: 50878.6328 - val_mae: 50878.6328\n",
      "Epoch 14/100\n",
      "250/250 [==============================] - 0s 2ms/step - loss: 50350.0430 - mae: 50350.0430 - val_loss: 50809.4727 - val_mae: 50809.4727\n",
      "Epoch 15/100\n",
      "250/250 [==============================] - 0s 2ms/step - loss: 50248.7148 - mae: 50248.7148 - val_loss: 50762.3398 - val_mae: 50762.3398\n",
      "Epoch 16/100\n",
      "250/250 [==============================] - 0s 2ms/step - loss: 50176.5742 - mae: 50176.5742 - val_loss: 50722.3047 - val_mae: 50722.3047\n",
      "Epoch 17/100\n",
      "250/250 [==============================] - 0s 2ms/step - loss: 50121.9648 - mae: 50121.9648 - val_loss: 50678.3828 - val_mae: 50678.3828\n",
      "Epoch 18/100\n",
      "250/250 [==============================] - 0s 2ms/step - loss: 50072.5703 - mae: 50072.5703 - val_loss: 50643.3125 - val_mae: 50643.3125\n",
      "Epoch 19/100\n",
      "250/250 [==============================] - 0s 1ms/step - loss: 50030.6133 - mae: 50030.6133 - val_loss: 50611.3906 - val_mae: 50611.3906\n",
      "Epoch 20/100\n",
      "250/250 [==============================] - 0s 1ms/step - loss: 49990.6797 - mae: 49990.6797 - val_loss: 50590.4766 - val_mae: 50590.4766\n",
      "Epoch 21/100\n",
      "250/250 [==============================] - 0s 2ms/step - loss: 49962.2383 - mae: 49962.2383 - val_loss: 50555.6211 - val_mae: 50555.6211\n",
      "Epoch 22/100\n",
      "250/250 [==============================] - 0s 1ms/step - loss: 49929.6445 - mae: 49929.6445 - val_loss: 50527.1914 - val_mae: 50527.1914\n",
      "Epoch 23/100\n",
      "250/250 [==============================] - 0s 1ms/step - loss: 49899.6133 - mae: 49899.6133 - val_loss: 50509.1172 - val_mae: 50509.1172\n",
      "Epoch 24/100\n",
      "250/250 [==============================] - 0s 2ms/step - loss: 49872.8789 - mae: 49872.8789 - val_loss: 50490.3984 - val_mae: 50490.3984\n",
      "Epoch 25/100\n",
      "250/250 [==============================] - 0s 1ms/step - loss: 49845.9805 - mae: 49845.9805 - val_loss: 50488.0625 - val_mae: 50488.0625\n",
      "Epoch 26/100\n",
      "250/250 [==============================] - 0s 1ms/step - loss: 49821.0352 - mae: 49821.0352 - val_loss: 50466.5352 - val_mae: 50466.5352\n",
      "Epoch 27/100\n",
      "250/250 [==============================] - 0s 1ms/step - loss: 49798.7969 - mae: 49798.7969 - val_loss: 50448.1250 - val_mae: 50448.1250\n",
      "Epoch 28/100\n",
      "250/250 [==============================] - 0s 1ms/step - loss: 49777.0898 - mae: 49777.0898 - val_loss: 50438.6367 - val_mae: 50438.6367\n",
      "Epoch 29/100\n",
      "250/250 [==============================] - 0s 1ms/step - loss: 49760.3477 - mae: 49760.3477 - val_loss: 50423.5938 - val_mae: 50423.5938\n",
      "Epoch 30/100\n",
      "250/250 [==============================] - 0s 1ms/step - loss: 49737.1406 - mae: 49737.1406 - val_loss: 50417.1953 - val_mae: 50417.1953\n",
      "Epoch 31/100\n",
      "250/250 [==============================] - 0s 1ms/step - loss: 49719.9570 - mae: 49719.9570 - val_loss: 50414.7266 - val_mae: 50414.7266\n",
      "Epoch 32/100\n",
      "250/250 [==============================] - 0s 1ms/step - loss: 49700.3164 - mae: 49700.3164 - val_loss: 50393.7148 - val_mae: 50393.7148\n",
      "Epoch 33/100\n",
      "250/250 [==============================] - 0s 1ms/step - loss: 49686.1562 - mae: 49686.1562 - val_loss: 50395.3281 - val_mae: 50395.3281\n",
      "Epoch 34/100\n",
      "250/250 [==============================] - 0s 1ms/step - loss: 49672.7539 - mae: 49672.7539 - val_loss: 50386.6797 - val_mae: 50386.6797\n",
      "Epoch 35/100\n",
      "250/250 [==============================] - 0s 1ms/step - loss: 49658.4023 - mae: 49658.4023 - val_loss: 50379.8281 - val_mae: 50379.8281\n",
      "Epoch 36/100\n",
      "250/250 [==============================] - 0s 2ms/step - loss: 49642.2266 - mae: 49642.2266 - val_loss: 50376.3672 - val_mae: 50376.3672\n",
      "Epoch 37/100\n",
      "250/250 [==============================] - 0s 1ms/step - loss: 49632.1133 - mae: 49632.1133 - val_loss: 50370.1406 - val_mae: 50370.1406\n",
      "Epoch 38/100\n",
      "250/250 [==============================] - 0s 1ms/step - loss: 49617.6211 - mae: 49617.6211 - val_loss: 50360.8516 - val_mae: 50360.8516\n",
      "Epoch 39/100\n",
      "250/250 [==============================] - 0s 1ms/step - loss: 49607.6445 - mae: 49607.6445 - val_loss: 50346.1641 - val_mae: 50346.1641\n",
      "Epoch 40/100\n",
      "250/250 [==============================] - 0s 1ms/step - loss: 49595.9062 - mae: 49595.9062 - val_loss: 50350.9062 - val_mae: 50350.9062\n",
      "Epoch 41/100\n",
      "250/250 [==============================] - 0s 1ms/step - loss: 49585.6797 - mae: 49585.6797 - val_loss: 50353.1953 - val_mae: 50353.1953\n",
      "Epoch 42/100\n",
      "250/250 [==============================] - 0s 1ms/step - loss: 49576.0117 - mae: 49576.0117 - val_loss: 50346.1758 - val_mae: 50346.1758\n",
      "Epoch 43/100\n",
      "250/250 [==============================] - 0s 2ms/step - loss: 49565.5547 - mae: 49565.5547 - val_loss: 50337.6133 - val_mae: 50337.6133\n",
      "Epoch 44/100\n",
      "250/250 [==============================] - 0s 2ms/step - loss: 49557.9023 - mae: 49557.9023 - val_loss: 50344.2969 - val_mae: 50344.2969\n",
      "Epoch 45/100\n",
      "250/250 [==============================] - 0s 2ms/step - loss: 49546.5469 - mae: 49546.5469 - val_loss: 50343.3945 - val_mae: 50343.3945\n",
      "Epoch 46/100\n",
      "250/250 [==============================] - 0s 2ms/step - loss: 49541.8711 - mae: 49541.8711 - val_loss: 50334.5938 - val_mae: 50334.5938\n",
      "Epoch 47/100\n",
      "250/250 [==============================] - 0s 2ms/step - loss: 49531.6289 - mae: 49531.6289 - val_loss: 50337.5352 - val_mae: 50337.5352\n",
      "Epoch 48/100\n",
      "250/250 [==============================] - 0s 2ms/step - loss: 49522.1758 - mae: 49522.1758 - val_loss: 50341.3828 - val_mae: 50341.3828\n",
      "Epoch 49/100\n",
      "250/250 [==============================] - 0s 2ms/step - loss: 49513.7188 - mae: 49513.7188 - val_loss: 50336.6992 - val_mae: 50336.6992\n",
      "Epoch 50/100\n",
      "250/250 [==============================] - 0s 2ms/step - loss: 49505.2422 - mae: 49505.2422 - val_loss: 50336.2852 - val_mae: 50336.2852\n",
      "Epoch 51/100\n",
      "250/250 [==============================] - 0s 2ms/step - loss: 49498.7383 - mae: 49498.7383 - val_loss: 50324.4453 - val_mae: 50324.4453\n",
      "Epoch 52/100\n",
      "250/250 [==============================] - 0s 2ms/step - loss: 49492.8945 - mae: 49492.8945 - val_loss: 50323.9570 - val_mae: 50323.9570\n",
      "Epoch 53/100\n",
      "250/250 [==============================] - 0s 2ms/step - loss: 49484.3125 - mae: 49484.3125 - val_loss: 50333.2773 - val_mae: 50333.2773\n",
      "Epoch 54/100\n",
      "250/250 [==============================] - 0s 2ms/step - loss: 49479.5273 - mae: 49479.5273 - val_loss: 50331.5078 - val_mae: 50331.5078\n",
      "Epoch 55/100\n",
      "250/250 [==============================] - 0s 2ms/step - loss: 49470.7305 - mae: 49470.7305 - val_loss: 50323.1250 - val_mae: 50323.1250\n",
      "Epoch 56/100\n",
      "250/250 [==============================] - 0s 2ms/step - loss: 49463.7656 - mae: 49463.7656 - val_loss: 50322.2461 - val_mae: 50322.2461\n",
      "Epoch 57/100\n",
      "250/250 [==============================] - 0s 2ms/step - loss: 49458.3359 - mae: 49458.3359 - val_loss: 50331.6797 - val_mae: 50331.6797\n",
      "Epoch 58/100\n",
      "250/250 [==============================] - 0s 2ms/step - loss: 49453.1016 - mae: 49453.1016 - val_loss: 50336.6211 - val_mae: 50336.6211\n",
      "Epoch 59/100\n",
      "250/250 [==============================] - 0s 2ms/step - loss: 49446.4531 - mae: 49446.4531 - val_loss: 50328.8672 - val_mae: 50328.8672\n",
      "Epoch 60/100\n",
      "250/250 [==============================] - 0s 2ms/step - loss: 49443.6289 - mae: 49443.6289 - val_loss: 50332.0078 - val_mae: 50332.0078\n",
      "Epoch 61/100\n",
      "250/250 [==============================] - 0s 2ms/step - loss: 49434.4531 - mae: 49434.4531 - val_loss: 50327.6797 - val_mae: 50327.6797\n",
      "Epoch 62/100\n",
      "250/250 [==============================] - 0s 2ms/step - loss: 49428.5938 - mae: 49428.5938 - val_loss: 50331.3438 - val_mae: 50331.3438\n",
      "Epoch 63/100\n",
      "250/250 [==============================] - 0s 2ms/step - loss: 49422.9805 - mae: 49422.9805 - val_loss: 50342.7852 - val_mae: 50342.7852\n",
      "Epoch 64/100\n",
      "250/250 [==============================] - 0s 2ms/step - loss: 49419.4414 - mae: 49419.4414 - val_loss: 50327.4023 - val_mae: 50327.4023\n",
      "Epoch 65/100\n",
      "250/250 [==============================] - 0s 2ms/step - loss: 49416.3633 - mae: 49416.3633 - val_loss: 50330.4727 - val_mae: 50330.4727\n",
      "Epoch 66/100\n",
      "250/250 [==============================] - 0s 2ms/step - loss: 49410.1250 - mae: 49410.1250 - val_loss: 50337.3945 - val_mae: 50337.3945\n"
     ]
    }
   ],
   "source": [
    "history = model.fit(\n",
    "    X_train,y_train,\n",
    "    validation_data = (X_test,y_test),\n",
    "    epochs=100,\n",
    "    callbacks = [early_stopping_callback,tensorboard_callback]\n",
    ")"
   ]
  },
  {
   "cell_type": "code",
   "execution_count": 69,
   "id": "1fb145a9",
   "metadata": {},
   "outputs": [
    {
     "name": "stdout",
     "output_type": "stream",
     "text": [
      "The tensorboard extension is already loaded. To reload it, use:\n",
      "  %reload_ext tensorboard\n"
     ]
    }
   ],
   "source": [
    "%load_ext tensorboard"
   ]
  },
  {
   "cell_type": "code",
   "execution_count": 70,
   "id": "af292b3d",
   "metadata": {},
   "outputs": [
    {
     "data": {
      "text/plain": [
       "Reusing TensorBoard on port 6006 (pid 15452), started 0:21:20 ago. (Use '!kill 15452' to kill it.)"
      ]
     },
     "metadata": {},
     "output_type": "display_data"
    },
    {
     "data": {
      "text/html": [
       "\n",
       "      <iframe id=\"tensorboard-frame-abe230b8f6754f8f\" width=\"100%\" height=\"800\" frameborder=\"0\">\n",
       "      </iframe>\n",
       "      <script>\n",
       "        (function() {\n",
       "          const frame = document.getElementById(\"tensorboard-frame-abe230b8f6754f8f\");\n",
       "          const url = new URL(\"http://localhost\");\n",
       "          const port = 6006;\n",
       "          if (port) {\n",
       "            url.port = port;\n",
       "          }\n",
       "          frame.src = url;\n",
       "        })();\n",
       "      </script>\n",
       "    "
      ],
      "text/plain": [
       "<IPython.core.display.HTML object>"
      ]
     },
     "metadata": {},
     "output_type": "display_data"
    }
   ],
   "source": [
    "%tensorboard --logdir regression/fit/"
   ]
  },
  {
   "cell_type": "code",
   "execution_count": 71,
   "id": "895b4f08",
   "metadata": {},
   "outputs": [
    {
     "name": "stdout",
     "output_type": "stream",
     "text": [
      "63/63 [==============================] - 0s 807us/step - loss: 50322.2461 - mae: 50322.2461\n"
     ]
    }
   ],
   "source": [
    "test_loss,test_mae=model.evaluate(X_test,y_test)"
   ]
  },
  {
   "cell_type": "code",
   "execution_count": 72,
   "id": "de903140",
   "metadata": {},
   "outputs": [
    {
     "name": "stderr",
     "output_type": "stream",
     "text": [
      "e:\\ANN CLASSIFICATION\\venv\\Lib\\site-packages\\keras\\src\\engine\\training.py:3103: UserWarning: You are saving your model as an HDF5 file via `model.save()`. This file format is considered legacy. We recommend using instead the native Keras format, e.g. `model.save('my_model.keras')`.\n",
      "  saving_api.save_model(\n"
     ]
    }
   ],
   "source": [
    "model.save('regression_model.h5')"
   ]
  },
  {
   "cell_type": "code",
   "execution_count": null,
   "id": "938e6c77",
   "metadata": {},
   "outputs": [],
   "source": []
  }
 ],
 "metadata": {
  "kernelspec": {
   "display_name": "Python 3",
   "language": "python",
   "name": "python3"
  },
  "language_info": {
   "codemirror_mode": {
    "name": "ipython",
    "version": 3
   },
   "file_extension": ".py",
   "mimetype": "text/x-python",
   "name": "python",
   "nbconvert_exporter": "python",
   "pygments_lexer": "ipython3",
   "version": "3.11.0"
  }
 },
 "nbformat": 4,
 "nbformat_minor": 5
}
